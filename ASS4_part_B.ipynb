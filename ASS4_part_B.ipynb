{
 "cells": [
  {
   "cell_type": "markdown",
   "metadata": {
    "id": "x5DbC9PWOyM_"
   },
   "source": [
    "# Assignment 4, Part B: Optimisation"
   ]
  },
  {
   "cell_type": "code",
   "execution_count": 1,
   "metadata": {
    "colab": {
     "base_uri": "https://localhost:8080/",
     "height": 333
    },
    "executionInfo": {
     "elapsed": 885,
     "status": "ok",
     "timestamp": 1632376015857,
     "user": {
      "displayName": "Gaofeng Shi",
      "photoUrl": "https://lh3.googleusercontent.com/a-/AOh14GgMZGhuTT8jOXHft_3ERk0seaQkrvHiGZdUqUK1=s64",
      "userId": "13556559319543508178"
     },
     "user_tz": -720
    },
    "id": "WO3iqoFuOyNF",
    "outputId": "fceb7853-71ba-4023-83fd-fb55334c4b93"
   },
   "outputs": [
    {
     "data": {
      "text/plain": [
       "(-0.027240478992462167,\n",
       " 2.0027856469154357,\n",
       " -0.010141533613204967,\n",
       " 1.9828997075557708)"
      ]
     },
     "execution_count": 1,
     "metadata": {},
     "output_type": "execute_result"
    },
    {
     "data": {
      "image/png": "[encoded data removed]",
      "text/plain": [
       "<Figure size 432x288 with 1 Axes>"
      ]
     },
     "metadata": {
      "needs_background": "light"
     },
     "output_type": "display_data"
    }
   ],
   "source": [
    "import matplotlib.pyplot as plt\n",
    "import numpy as np\n",
    "import torch\n",
    "# make up some data for x\n",
    "D = 2\n",
    "x= torch.rand(100,D)\n",
    "x[:,0] = x[:,0] + x[:,1]\n",
    "x[:,1] = 0.5*x[:,0] + x[:,1]\n",
    "\n",
    "plt.scatter(x[:,0],x[:,1])\n",
    "plt.axis('equal')"
   ]
  },
  {
   "cell_type": "code",
   "execution_count": 2,
   "metadata": {
    "id": "82EETlDPOyNI"
   },
   "outputs": [],
   "source": [
    "wEncoder = torch.randn(D,1, requires_grad=True)\n",
    "wDecoder = torch.randn(1,D, requires_grad=True)\n",
    "bEncoder = torch.randn(1, requires_grad=True)\n",
    "bDecoder = torch.randn(1,D, requires_grad=True)\n",
    "# origWeight = torch.clone(wEncoder)"
   ]
  },
  {
   "cell_type": "markdown",
   "metadata": {},
   "source": [
    "#### The function of encoder and decoder"
   ]
  },
  {
   "cell_type": "code",
   "execution_count": 3,
   "metadata": {
    "id": "9NRbMfsEOyNK"
   },
   "outputs": [],
   "source": [
    "def func(wEncoder, wDecoder, bEncoder, bDecoder):\n",
    "    x_reconstruction = torch.zeros(100,D)\n",
    "    z = x[:, 0]*wEncoder[0,0]+x[:,1]*wEncoder[1,0]+bEncoder\n",
    "    x_reconstruction[:,0]=z*wDecoder[0,0]+bDecoder[0,0]\n",
    "    x_reconstruction[:,1]=z*wDecoder[0,1]+bDecoder[0,1]\n",
    "    return x_reconstruction    "
   ]
  },
  {
   "cell_type": "markdown",
   "metadata": {},
   "source": [
    "#### Plot show the reconstructed X"
   ]
  },
  {
   "cell_type": "code",
   "execution_count": 4,
   "metadata": {
    "colab": {
     "base_uri": "https://localhost:8080/",
     "height": 333
    },
    "executionInfo": {
     "elapsed": 587,
     "status": "ok",
     "timestamp": 1632376016435,
     "user": {
      "displayName": "Gaofeng Shi",
      "photoUrl": "https://lh3.googleusercontent.com/a-/AOh14GgMZGhuTT8jOXHft_3ERk0seaQkrvHiGZdUqUK1=s64",
      "userId": "13556559319543508178"
     },
     "user_tz": -720
    },
    "id": "vogWFNH4OyNK",
    "outputId": "2f9eceb3-b00e-4122-889e-cebc91daa95b"
   },
   "outputs": [
    {
     "data": {
      "text/plain": [
       "(2.1406979084014894,\n",
       " 3.986225652694702,\n",
       " 0.25022481232881544,\n",
       " 0.5388421282172203)"
      ]
     },
     "execution_count": 4,
     "metadata": {},
     "output_type": "execute_result"
    },
    {
     "data": {
      "image/png": "[encoded data removed]",
      "text/plain": [
       "<Figure size 432x288 with 1 Axes>"
      ]
     },
     "metadata": {
      "needs_background": "light"
     },
     "output_type": "display_data"
    }
   ],
   "source": [
    "x.autograd_grad = True\n",
    "x.grad\n",
    "y = func(wEncoder, wDecoder, bEncoder, bDecoder)\n",
    "plt.scatter(y.detach()[:,0],y.detach()[:,1])\n",
    "plt.axis('equal')"
   ]
  },
  {
   "cell_type": "code",
   "execution_count": 5,
   "metadata": {
    "id": "dvFAIm9LOyNO"
   },
   "outputs": [],
   "source": [
    "# call the loss function and optimize with stochastic gradient descent SGD\n",
    "loss = torch.nn.MSELoss()\n",
    "opt = torch.optim.SGD([wEncoder, wDecoder, bEncoder, bDecoder],lr = 0.01) #momentum=0.9"
   ]
  },
  {
   "cell_type": "code",
   "execution_count": 6,
   "metadata": {
    "id": "_TKdrwAsOyNP"
   },
   "outputs": [],
   "source": [
    "# The function of optimize with 1000 steps\n",
    "STEPS = 1000\n",
    "saved_wE = np.ones((STEPS,D,1))\n",
    "saved_wD = np.ones((STEPS,1,D))\n",
    "saved_bE = np.ones((STEPS,1))\n",
    "saved_bD = np.ones((STEPS,1,D))\n",
    "loss_cure = np.ones((STEPS,1))\n",
    "                 \n",
    "for t in range(STEPS):\n",
    "    saved_wE[t,:,:] = wEncoder.detach().numpy()\n",
    "    saved_wD[t,:,:] = wDecoder.detach().numpy()\n",
    "    saved_bE[t,:] = bEncoder.detach().numpy()\n",
    "    saved_bD[t,:,:] = bDecoder.detach().numpy()\n",
    "    opt.zero_grad()\n",
    "    xr = func(wEncoder, wDecoder, bEncoder, bDecoder)\n",
    "    output = loss(x, xr)\n",
    "    loss_cure[t,:] = output.detach().numpy()\n",
    "    output.backward(torch.ones_like(output))\n",
    "    opt.step()"
   ]
  },
  {
   "cell_type": "markdown",
   "metadata": {
    "id": "17T3Bn9Dx6Sr"
   },
   "source": [
    "####  Plot the loss versus epochs"
   ]
  },
  {
   "cell_type": "code",
   "execution_count": 7,
   "metadata": {
    "colab": {
     "base_uri": "https://localhost:8080/",
     "height": 279
    },
    "executionInfo": {
     "elapsed": 16,
     "status": "ok",
     "timestamp": 1632376016437,
     "user": {
      "displayName": "Gaofeng Shi",
      "photoUrl": "https://lh3.googleusercontent.com/a-/AOh14GgMZGhuTT8jOXHft_3ERk0seaQkrvHiGZdUqUK1=s64",
      "userId": "13556559319543508178"
     },
     "user_tz": -720
    },
    "id": "nJMz0MwqHTrC",
    "outputId": "463da5ff-253d-45b6-8283-0ae373973eb5"
   },
   "outputs": [
    {
     "data": {
      "image/png": "[encoded data removed]",
      "text/plain": [
       "<Figure size 432x288 with 1 Axes>"
      ]
     },
     "metadata": {
      "needs_background": "light"
     },
     "output_type": "display_data"
    }
   ],
   "source": [
    "loss_cure\n",
    "plt.plot(loss_cure)\n",
    "plt.xlabel('steps')\n",
    "plt.ylabel('loss')\n",
    "plt.show()"
   ]
  },
  {
   "cell_type": "markdown",
   "metadata": {},
   "source": [
    "#### Plot original data X, reconstructed X, and encoder weights."
   ]
  },
  {
   "cell_type": "code",
   "execution_count": 8,
   "metadata": {
    "colab": {
     "base_uri": "https://localhost:8080/",
     "height": 551
    },
    "executionInfo": {
     "elapsed": 1355,
     "status": "ok",
     "timestamp": 1632376017777,
     "user": {
      "displayName": "Gaofeng Shi",
      "photoUrl": "https://lh3.googleusercontent.com/a-/AOh14GgMZGhuTT8jOXHft_3ERk0seaQkrvHiGZdUqUK1=s64",
      "userId": "13556559319543508178"
     },
     "user_tz": -720
    },
    "id": "ZPNU5D6CMF8n",
    "outputId": "311e3913-4c2a-48d6-9d82-66e01df00743"
   },
   "outputs": [
    {
     "data": {
      "text/plain": [
       "(-1.9575692474842072,\n",
       " 2.094706064462662,\n",
       " -0.0946153461933136,\n",
       " 1.9869222700595857)"
      ]
     },
     "execution_count": 8,
     "metadata": {},
     "output_type": "execute_result"
    },
    {
     "data": {
      "image/png": "[encoded data removed]",
      "text/plain": [
       "<Figure size 720x576 with 1 Axes>"
      ]
     },
     "metadata": {
      "needs_background": "light"
     },
     "output_type": "display_data"
    }
   ],
   "source": [
    "plt.figure(figsize=(10,8))\n",
    "plt.scatter(x.detach()[:,0],x.detach()[:,1],color='cyan', label='original x')\n",
    "plt.scatter(xr.detach()[:,0],xr.detach()[:,1], label='reconstructed x', color = 'darkblue')\n",
    "plt.plot([0,wEncoder[0,0]], [0,wEncoder[1,0]],'-r', label='learned en-weight')\n",
    "#plt.plot([origWeight[0,0],wEncoder[0,0]], [origWeight[1,0],wEncoder[1,0]],'-g' )\n",
    "#plt.plot([0,saved_wE[-1,0,0]],[0,saved_wE[-1,1,0]],'.',color='darkred',label='learned wE')\n",
    "plt.legend()\n",
    "plt.axis('equal')"
   ]
  },
  {
   "cell_type": "markdown",
   "metadata": {},
   "source": [
    "#### Print out the ratio of the weight in the encoder versus the weight in the decoder, for each of the two dimensions."
   ]
  },
  {
   "cell_type": "code",
   "execution_count": 9,
   "metadata": {
    "colab": {
     "base_uri": "https://localhost:8080/"
    },
    "executionInfo": {
     "elapsed": 21,
     "status": "ok",
     "timestamp": 1632376017785,
     "user": {
      "displayName": "Gaofeng Shi",
      "photoUrl": "https://lh3.googleusercontent.com/a-/AOh14GgMZGhuTT8jOXHft_3ERk0seaQkrvHiGZdUqUK1=s64",
      "userId": "13556559319543508178"
     },
     "user_tz": -720
    },
    "id": "NGoib52GKRZL",
    "outputId": "c0371417-dce3-49c2-967c-a2bcaedc88b5"
   },
   "outputs": [
    {
     "name": "stdout",
     "output_type": "stream",
     "text": [
      "The ratio of the weight in x[0]:  tensor(3.3471)\n",
      "The ratio of the weight in x[1]:  tensor(-0.5804)\n"
     ]
    }
   ],
   "source": [
    "print('The ratio of the weight in x[0]: ',wEncoder.detach()[0,0]/wDecoder.detach()[0,0])\n",
    "print('The ratio of the weight in x[1]: ',wEncoder.detach()[1,0]/wDecoder.detach()[0,1])"
   ]
  },
  {
   "cell_type": "markdown",
   "metadata": {},
   "source": [
    "The ratio of the weight in two dimensions which are very different. "
   ]
  },
  {
   "cell_type": "markdown",
   "metadata": {},
   "source": [
    "#### Show the learnd Encoder & Decoder weight and Bias."
   ]
  },
  {
   "cell_type": "code",
   "execution_count": 10,
   "metadata": {
    "colab": {
     "base_uri": "https://localhost:8080/",
     "height": 551
    },
    "executionInfo": {
     "elapsed": 30,
     "status": "ok",
     "timestamp": 1632376017784,
     "user": {
      "displayName": "Gaofeng Shi",
      "photoUrl": "https://lh3.googleusercontent.com/a-/AOh14GgMZGhuTT8jOXHft_3ERk0seaQkrvHiGZdUqUK1=s64",
      "userId": "13556559319543508178"
     },
     "user_tz": -720
    },
    "id": "ib4LgT4pOyNQ",
    "outputId": "16dd417e-7d6d-440c-d64f-573770a7c780"
   },
   "outputs": [
    {
     "data": {
      "text/plain": [
       "(-1.9573762357234954,\n",
       " 2.0946968734264373,\n",
       " -1.638621437549591,\n",
       " 2.0604463696479796)"
      ]
     },
     "execution_count": 10,
     "metadata": {},
     "output_type": "execute_result"
    },
    {
     "data": {
      "image/png": "[encoded data removed]",
      "text/plain": [
       "<Figure size 720x576 with 1 Axes>"
      ]
     },
     "metadata": {
      "needs_background": "light"
     },
     "output_type": "display_data"
    }
   ],
   "source": [
    "plt.figure(figsize=(10,8))\n",
    "plt.scatter(xr.detach()[:,0],xr.detach()[:,1], label='optim re_x', color = 'darkblue')\n",
    "plt.scatter(x.detach()[:,0],x.detach()[:,1],color='cyan', label='x')\n",
    "plt.plot(saved_wE[:,0,0],saved_wE[:,1,0],'.',color='darkred',label='learned wE')\n",
    "plt.plot(saved_wD[:,0,0],saved_wD[:,0,1],'.',color='orchid',label='learned wD')\n",
    "plt.plot(saved_bE[:,0],saved_bE[:,0],'.',color='orange',label='learned bE')\n",
    "plt.plot(saved_bD[:,0,0],saved_bD[:,0,1],'.',color='g',label='learned bD')\n",
    "plt.legend()\n",
    "plt.axis('equal')"
   ]
  },
  {
   "cell_type": "markdown",
   "metadata": {},
   "source": [
    "#### Add momentum = 0.9, from a random start"
   ]
  },
  {
   "cell_type": "code",
   "execution_count": 11,
   "metadata": {
    "id": "gkfNOGzgdFA5"
   },
   "outputs": [],
   "source": [
    "wEncoder = torch.randn(D,1, requires_grad=True)\n",
    "wDecoder = torch.randn(1,D, requires_grad=True)\n",
    "bEncoder = torch.randn(1, requires_grad=True)\n",
    "bDecoder = torch.randn(1,D, requires_grad=True)\n",
    "loss = torch.nn.MSELoss()\n",
    "opt = torch.optim.SGD([wEncoder, wDecoder, bEncoder, bDecoder],lr = 0.01, momentum=0.9) #momentum=0.9\n",
    "STEPS = 1000                \n",
    "for t in range(STEPS):\n",
    "    opt.zero_grad()\n",
    "    xr = func(wEncoder, wDecoder, bEncoder, bDecoder)\n",
    "    output = loss(x, xr)\n",
    "    loss_cure[t,:] = output.detach().numpy()\n",
    "    output.backward(torch.ones_like(output))\n",
    "    opt.step()"
   ]
  },
  {
   "cell_type": "markdown",
   "metadata": {},
   "source": [
    "Plot the loss versus epochs (steps)."
   ]
  },
  {
   "cell_type": "code",
   "execution_count": 12,
   "metadata": {
    "colab": {
     "base_uri": "https://localhost:8080/",
     "height": 279
    },
    "executionInfo": {
     "elapsed": 53,
     "status": "ok",
     "timestamp": 1632376018350,
     "user": {
      "displayName": "Gaofeng Shi",
      "photoUrl": "https://lh3.googleusercontent.com/a-/AOh14GgMZGhuTT8jOXHft_3ERk0seaQkrvHiGZdUqUK1=s64",
      "userId": "13556559319543508178"
     },
     "user_tz": -720
    },
    "id": "A7mbwLHrdkWh",
    "outputId": "08cb08dc-9510-4c6d-b3fb-a5bd3fe0ff3a"
   },
   "outputs": [
    {
     "data": {
      "image/png": "[encoded data removed]",
      "text/plain": [
       "<Figure size 432x288 with 1 Axes>"
      ]
     },
     "metadata": {
      "needs_background": "light"
     },
     "output_type": "display_data"
    }
   ],
   "source": [
    "loss_cure\n",
    "plt.plot(loss_cure)\n",
    "plt.xlabel('steps')\n",
    "plt.ylabel('loss')\n",
    "plt.show()"
   ]
  },
  {
   "cell_type": "markdown",
   "metadata": {},
   "source": [
    "Plot original data X, reconstructed X, and encoder weights."
   ]
  },
  {
   "cell_type": "code",
   "execution_count": 13,
   "metadata": {
    "colab": {
     "base_uri": "https://localhost:8080/",
     "height": 551
    },
    "executionInfo": {
     "elapsed": 54,
     "status": "ok",
     "timestamp": 1632376018357,
     "user": {
      "displayName": "Gaofeng Shi",
      "photoUrl": "https://lh3.googleusercontent.com/a-/AOh14GgMZGhuTT8jOXHft_3ERk0seaQkrvHiGZdUqUK1=s64",
      "userId": "13556559319543508178"
     },
     "user_tz": -720
    },
    "id": "9iooVEp5d9Ie",
    "outputId": "d4c27959-188e-4494-a2b1-c2718857809a"
   },
   "outputs": [
    {
     "data": {
      "text/plain": [
       "(-0.865982910990715,\n",
       " 2.0427257627248765,\n",
       " -1.5085985243320466,\n",
       " 2.0876520454883574)"
      ]
     },
     "execution_count": 13,
     "metadata": {},
     "output_type": "execute_result"
    },
    {
     "data": {
      "image/png": "[encoded data removed]",
      "text/plain": [
       "<Figure size 720x576 with 1 Axes>"
      ]
     },
     "metadata": {
      "needs_background": "light"
     },
     "output_type": "display_data"
    }
   ],
   "source": [
    "plt.figure(figsize=(10,8))\n",
    "plt.scatter(x.detach()[:,0],x.detach()[:,1],color='cyan', label='original x')\n",
    "plt.scatter(xr.detach()[:,0],xr.detach()[:,1], label='reconstructed x', color = 'darkblue')\n",
    "plt.plot([0,wEncoder[0,0]], [0,wEncoder[1,0]],'-r', label='learned en-weight')\n",
    "plt.legend()\n",
    "plt.axis('equal')"
   ]
  },
  {
   "cell_type": "markdown",
   "metadata": {},
   "source": [
    "Print out the ratio of the weight in the encoder versus the weight in the decoder, for each of the two dimensions."
   ]
  },
  {
   "cell_type": "code",
   "execution_count": 14,
   "metadata": {},
   "outputs": [
    {
     "name": "stdout",
     "output_type": "stream",
     "text": [
      "The ratio of the weight in x[0]:  tensor(1.6805)\n",
      "The ratio of the weight in x[1]:  tensor(2.6628)\n"
     ]
    }
   ],
   "source": [
    "print('The ratio of the weight in x[0]: ',wEncoder.detach()[0,0]/wDecoder.detach()[0,0])\n",
    "print('The ratio of the weight in x[1]: ',wEncoder.detach()[1,0]/wDecoder.detach()[0,1])"
   ]
  },
  {
   "cell_type": "markdown",
   "metadata": {},
   "source": [
    "As we see above the plot, the tendency of x and reconstructed x which are match each other. It is going to same direction. By contrast, the SGD optimazer without momentum which still have angle different by original x and reconstructed x. The loss value show little bit difference as there are some fluctuate. It meants the momentun is working which will turn out the local minima. Also the weight value direction same with both x tendency. The ratio of the weight on each demensions which are more close than privious one. SGD with momentum will have more accuracy of econder. "
   ]
  },
  {
   "cell_type": "markdown",
   "metadata": {},
   "source": [
    "#### RMSprop (with momentum 0.9 and a random start) "
   ]
  },
  {
   "cell_type": "code",
   "execution_count": 15,
   "metadata": {
    "id": "3jXf1Ykted68"
   },
   "outputs": [],
   "source": [
    "wEncoder = torch.randn(D,1, requires_grad=True)\n",
    "wDecoder = torch.randn(1,D, requires_grad=True)\n",
    "bEncoder = torch.randn(1, requires_grad=True)\n",
    "bDecoder = torch.randn(1,D, requires_grad=True)\n",
    "opt = torch.optim.RMSprop([wEncoder, wDecoder, bEncoder, bDecoder],momentum=0.9,lr = 0.01) \n",
    "STEPS = 1000\n",
    "for t in range(STEPS):\n",
    "    opt.zero_grad()\n",
    "    xr = func(wEncoder, wDecoder, bEncoder, bDecoder)\n",
    "    output = loss(x, xr)\n",
    "    loss_cure[t,:] = output.detach().numpy()\n",
    "    output.backward(torch.ones_like(output))\n",
    "    opt.step()"
   ]
  },
  {
   "cell_type": "code",
   "execution_count": 16,
   "metadata": {
    "colab": {
     "base_uri": "https://localhost:8080/",
     "height": 279
    },
    "executionInfo": {
     "elapsed": 797,
     "status": "ok",
     "timestamp": 1632376019561,
     "user": {
      "displayName": "Gaofeng Shi",
      "photoUrl": "https://lh3.googleusercontent.com/a-/AOh14GgMZGhuTT8jOXHft_3ERk0seaQkrvHiGZdUqUK1=s64",
      "userId": "13556559319543508178"
     },
     "user_tz": -720
    },
    "id": "D5kCmeBteqxG",
    "outputId": "e32f44d1-7d44-4d50-9770-651fb61da6b4"
   },
   "outputs": [
    {
     "data": {
      "image/png": "[encoded data removed]",
      "text/plain": [
       "<Figure size 432x288 with 1 Axes>"
      ]
     },
     "metadata": {
      "needs_background": "light"
     },
     "output_type": "display_data"
    }
   ],
   "source": [
    "# Plot the loss versus epochs (steps).\n",
    "loss_cure\n",
    "plt.plot(loss_cure)\n",
    "plt.xlabel('steps')\n",
    "plt.ylabel('loss')\n",
    "plt.show()"
   ]
  },
  {
   "cell_type": "code",
   "execution_count": 17,
   "metadata": {
    "colab": {
     "base_uri": "https://localhost:8080/",
     "height": 551
    },
    "executionInfo": {
     "elapsed": 22,
     "status": "ok",
     "timestamp": 1632376019562,
     "user": {
      "displayName": "Gaofeng Shi",
      "photoUrl": "https://lh3.googleusercontent.com/a-/AOh14GgMZGhuTT8jOXHft_3ERk0seaQkrvHiGZdUqUK1=s64",
      "userId": "13556559319543508178"
     },
     "user_tz": -720
    },
    "id": "VuqQbvr5evuL",
    "outputId": "4af1bfec-33a9-417c-ed55-70a2a8ad4716"
   },
   "outputs": [
    {
     "data": {
      "text/plain": [
       "(-0.09552558660507203,\n",
       " 2.0060373187065124,\n",
       " -0.10491974353790284,\n",
       " 2.012538504600525)"
      ]
     },
     "execution_count": 17,
     "metadata": {},
     "output_type": "execute_result"
    },
    {
     "data": {
      "image/png": "[encoded data removed]",
      "text/plain": [
       "<Figure size 720x576 with 1 Axes>"
      ]
     },
     "metadata": {
      "needs_background": "light"
     },
     "output_type": "display_data"
    }
   ],
   "source": [
    "# Plot original data X, reconstructed X, and encoder weights.\n",
    "plt.figure(figsize=(10,8))\n",
    "plt.scatter(x.detach()[:,0],x.detach()[:,1],color='cyan', label='original x')\n",
    "plt.scatter(xr.detach()[:,0],xr.detach()[:,1], label='reconstructed x', color = 'darkblue')\n",
    "plt.plot([0,wEncoder[0,0]], [0,wEncoder[1,0]],'-r', label='learned en-weight')\n",
    "plt.legend()\n",
    "plt.axis('equal')"
   ]
  },
  {
   "cell_type": "markdown",
   "metadata": {},
   "source": [
    "Print out the ratio of the weight in the encoder versus the weight in the decoder, for each of the two dimensions."
   ]
  },
  {
   "cell_type": "code",
   "execution_count": 18,
   "metadata": {},
   "outputs": [
    {
     "name": "stdout",
     "output_type": "stream",
     "text": [
      "The ratio of the weight in x[0]:  tensor(0.8856)\n",
      "The ratio of the weight in x[1]:  tensor(0.8864)\n"
     ]
    }
   ],
   "source": [
    "print('The ratio of the weight in x[0]: ',wEncoder.detach()[0,0]/wDecoder.detach()[0,0])\n",
    "print('The ratio of the weight in x[1]: ',wEncoder.detach()[1,0]/wDecoder.detach()[0,1])"
   ]
  },
  {
   "cell_type": "markdown",
   "metadata": {},
   "source": [
    "There is different between RMSprop and SGD. The obviously difference is that weight polt line going to different direction. The weight of encoder in SGD is positive value which is from origin go up and RMSprop is from origin go down to negitive value. The RMSprop can avoid stuck the saddle point when it scales the learning rate with gradient. The ratio of the weight on each demensions which are the nearly equal. So it has same results with SGD had momentum but it can be more fast and get more accuracy. "
   ]
  },
  {
   "cell_type": "markdown",
   "metadata": {},
   "source": [
    "#### Explain the relationship between the above autoencoder and PCA."
   ]
  },
  {
   "cell_type": "markdown",
   "metadata": {},
   "source": [
    "Those Autoencoder algorithms with Principal component analysis PCA are both unsupervised machine learning technique. As we see above our process is to encoder two dimensional data to one dimensional and decoder to two dimensional vector again. However, PCA usually for reduce the number of features which is preparing for improving performance of machine learning model whatever classification, regression, or clustering. Our autoencoder algorithms didn’t reduce the dimension of data which only seems rescaled the data. \n",
    "\n",
    "The two methods have different encoder algorithms. Principal component analysis PCA through the covariance matrix to find the Eigen Vector. Then use Z-Score from Eigen Vector to project the new dimension data. The Autoencoder is using optimizer SGD by find the zero Loss function value to get the enhanced encoder weights.  PCA is mainly implemented non-parametric statistical techniques to transforms the data. The Autoencoder is focus on the machine learning algorithm Gradient Descent optimization to find the objective. \n",
    "\n",
    "The similarities of those two techniques are both rely on linear model. And they both base on reduction tends to minimize the information loss. Both can be implemented for filter noisy datasets. \n"
   ]
  },
  {
   "cell_type": "markdown",
   "metadata": {},
   "source": [
    "#### In the notebook with the Week 9 tutorial, you may have noticed how the RMSprop and Adam optimisers seem to prefer travelling along diagonal lines. Why does this happen?\n"
   ]
  },
  {
   "cell_type": "markdown",
   "metadata": {},
   "source": [
    "The optimizer technique is use to minimize the loss or increase the accuracy. The local minima and global minima is the issue of the optimizer algorithms. We using momentum can avoid getting stuck in the local minima. For example, in this autoencoder programming above, we implemented the momentum =0.9 in SGD which give us very good result. \n",
    "However, the gradient descent update the parameters with:\n",
    "\n",
    "W = W - learning rate * Vdw\n",
    "\n",
    "b  =  b  - learning rate * Vdb\n",
    "\n",
    "The RMSprop algorithm technique update parameters in different way which the movement in direction of weights ‘W’ is more than the movement in direction of ‘b’. They take the ‘S’ which is the exponential average of gradients. The every step the change will divide the gradients by the roots of exponential average respectively. \n",
    "\n",
    "W = W - learning rate * dw/ sqrt(Sdw)\n",
    "\n",
    "b  =  b - learning rate * dw/ sqrt(Sdb)\n",
    "\n",
    "The Adam algorithm is not only take the benefits of RMSprop, and also take part of Adaptive Gradient Algorithm AdaGrad. It calculates an exponential moving average of the gradient and the squared gradient, and the parameters beta1 and beta2 control the decay rates of the moving averages. \n",
    "\n",
    "That makes the RMSprop and Adam take more large steps in horizontal direction and converge faster. \n",
    "\n",
    "This the reason the RMSprop and Adam optimisers are likely to prefer travelling along diagonal lines. As they can easy avoid stuck local minima and handle gradients noisy problems. \n"
   ]
  },
  {
   "cell_type": "markdown",
   "metadata": {},
   "source": [
    "#### Reference:\n",
    "\n",
    "1. Harsha Goonewardana, PCA: Application in Machine Learning. https://medium.com/apprentice-journal/pca-application-in-machine-learning-4827c07a61db\n",
    "2. Iqbal Hussain, Principal Component Analysis (PCA) in Machine Learning— You will never find it tough again. https://medium.com/codex/principal-component-analysis-pca-how-it-works-mathematically-d5de4c7138e6\n",
    "3.  Jason Brownlee, Gentle Introduction to the Adam Optimization Algorithm for Deep Learning, https://machinelearningmastery.com/adam-optimization-algorithm-for-deep-learning/"
   ]
  },
  {
   "cell_type": "code",
   "execution_count": null,
   "metadata": {},
   "outputs": [],
   "source": []
  }
 ],
 "metadata": {
  "colab": {
   "collapsed_sections": [],
   "name": "Copy of Copy of ASS4_part_B.ipynb",
   "provenance": [
    {
     "file_id": "1nh88652drDxpdOP0tR-5AQ26XVQHA7Gg",
     "timestamp": 1632522443143
    },
    {
     "file_id": "1pmy-jEyHD_DA6h_uDSx3Zl6IKIfO4kFY",
     "timestamp": 1632352710572
    }
   ]
  },
  "kernelspec": {
   "display_name": "Python 3",
   "language": "python",
   "name": "python3"
  },
  "language_info": {
   "codemirror_mode": {
    "name": "ipython",
    "version": 3
   },
   "file_extension": ".py",
   "mimetype": "text/x-python",
   "name": "python",
   "nbconvert_exporter": "python",
   "pygments_lexer": "ipython3",
   "version": "3.8.5"
  }
 },
 "nbformat": 4,
 "nbformat_minor": 1
}
